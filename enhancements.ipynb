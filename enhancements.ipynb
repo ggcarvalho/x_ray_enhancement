{
 "cells": [
  {
   "cell_type": "markdown",
   "metadata": {},
   "source": [
    "# Digital Image Processing - Task 2\n",
    "\n",
    "## Enhancements - [Google Colab](https://colab.research.google.com/drive/1wBUWaJvsuEwz_8dCvzO_adWTonSNbJRW?usp=sharing)"
   ]
  },
  {
   "cell_type": "code",
   "execution_count": null,
   "metadata": {},
   "outputs": [],
   "source": [
    "# Importings\n",
    "\n",
    "import cv2\n",
    "import numpy as np\n",
    "import matplotlib.pyplot as plt"
   ]
  },
  {
   "cell_type": "code",
   "execution_count": null,
   "metadata": {},
   "outputs": [],
   "source": [
    "# Functions\n",
    "\n",
    "def min_max(image, new_min, new_max):\n",
    "    return ((image - image.min())*( (new_max - new_min)/(image.max() - image.min()) ) + new_min).astype(np.uint8)\n",
    "\n",
    "def show(image, title, save, savetitle = None):\n",
    "    plt.imshow(image, cmap = \"gray\")\n",
    "    plt.axis(\"off\")\n",
    "    plt.title(title)\n",
    "    plt.show()\n",
    "    if save:\n",
    "        cv2.imwrite(savetitle + \".tif\", min_max(image, 0, 255))"
   ]
  },
  {
   "cell_type": "code",
   "execution_count": null,
   "metadata": {},
   "outputs": [],
   "source": [
    "# Save outputs True/False\n",
    "\n",
    "SAVE_OUTPUTS = True"
   ]
  },
  {
   "cell_type": "code",
   "execution_count": null,
   "metadata": {},
   "outputs": [],
   "source": [
    "# Reading and displaying the image\n",
    "\n",
    "skeleton = cv2.imread(\"skeleton.tif\", 0)\n",
    "show(skeleton, \"Original\", False)"
   ]
  },
  {
   "cell_type": "code",
   "execution_count": null,
   "metadata": {},
   "outputs": [],
   "source": [
    "# Laplacian\n",
    "\n",
    "laplacian_mask = np.array([[-1, -1, -1], [-1, 8, -1], [-1, -1, -1]])\n",
    "\n",
    "skeleton_laplacian = cv2.filter2D(skeleton, cv2.CV_16S, laplacian_mask)\n",
    "skeleton_laplacian= min_max(skeleton_laplacian, 0, 255)\n",
    "\n",
    "show(skeleton_laplacian, \"Laplacian\", SAVE_OUTPUTS, \"laplacian\")\n",
    "\n",
    "skeleton_add_laplacian = skeleton + 0.5*skeleton_laplacian\n",
    "show(skeleton_add_laplacian, \"Laplacian + Original\", SAVE_OUTPUTS, \"laplacian_added\")"
   ]
  },
  {
   "cell_type": "code",
   "execution_count": null,
   "metadata": {},
   "outputs": [],
   "source": [
    "# Sobel\n",
    "\n",
    "sobel_x = np.array([[-1, -2, -1], [0, 0, 0], [-1, -2, -1]])\n",
    "sobel_y = np.array([[-1, 0, 1], [-2, 0, 2], [-1, 0, 1]])\n",
    "\n",
    "skeleton_x = cv2.filter2D(skeleton, cv2.CV_16S, sobel_x)\n",
    "skeleton_y = cv2.filter2D(skeleton, cv2.CV_16S, sobel_y)\n",
    "\n",
    "skeleton_sobel = np.absolute(skeleton_x) + np.absolute(skeleton_y)\n",
    "\n",
    "show(skeleton_sobel, \"Sobel\", SAVE_OUTPUTS, \"sobel\")"
   ]
  },
  {
   "cell_type": "code",
   "execution_count": null,
   "metadata": {},
   "outputs": [],
   "source": [
    "# Average filter\n",
    "\n",
    "filter_size = 5\n",
    "average_mask = (1/(filter_size**2))*np.ones((filter_size, filter_size))\n",
    "skeleton_sobel_average = cv2.filter2D(skeleton_sobel, cv2.CV_16S, average_mask)\n",
    "\n",
    "show(skeleton_sobel_average, \"Sobel + Average\", SAVE_OUTPUTS, \"sobel_averaged\")"
   ]
  },
  {
   "cell_type": "code",
   "execution_count": null,
   "metadata": {},
   "outputs": [],
   "source": [
    "# Product\n",
    "\n",
    "skeleton_product = (skeleton_add_laplacian/skeleton_add_laplacian.max())*(skeleton_sobel_average/skeleton_sobel_average.max())\n",
    "show(skeleton_product, \"Product\", SAVE_OUTPUTS, \"product\")\n",
    "\n",
    "skeleton_sum = 255*np.clip(skeleton/skeleton.max() + skeleton_product, 0, 1)\n",
    "show(skeleton_sum, \"Product mask + Original\", SAVE_OUTPUTS, \"product_added\")"
   ]
  },
  {
   "cell_type": "code",
   "execution_count": null,
   "metadata": {},
   "outputs": [],
   "source": [
    "# Gamma correction\n",
    "\n",
    "def gamma(x, gamma):\n",
    "    x = np.uint8(x)\n",
    "    lookUpTable = np.empty((1,256), np.uint8)\n",
    "    for i in range(256):\n",
    "        lookUpTable[0,i] = np.clip(pow(i / 255.0, gamma) * 255.0, 0, 255)\n",
    "    y = cv2.LUT(x, lookUpTable)\n",
    "    return y\n",
    "\n",
    "skeleton_gamma = gamma(skeleton_sum, 0.5)\n",
    "\n",
    "show(skeleton_gamma, \"Gamma correction\", SAVE_OUTPUTS, \"gamma\")"
   ]
  }
 ],
 "metadata": {
  "kernelspec": {
   "display_name": "Python 3",
   "language": "python",
   "name": "python3"
  },
  "language_info": {
   "codemirror_mode": {
    "name": "ipython",
    "version": 3
   },
   "file_extension": ".py",
   "mimetype": "text/x-python",
   "name": "python",
   "nbconvert_exporter": "python",
   "pygments_lexer": "ipython3",
   "version": "3.7.4"
  }
 },
 "nbformat": 4,
 "nbformat_minor": 4
}
